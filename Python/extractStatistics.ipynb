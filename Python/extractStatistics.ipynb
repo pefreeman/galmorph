{
 "cells": [
  {
   "cell_type": "code",
   "execution_count": 2,
   "metadata": {},
   "outputs": [
    {
     "name": "stderr",
     "output_type": "stream",
     "text": [
      "100%|#########################################################################|\n"
     ]
    },
    {
     "name": "stdout",
     "output_type": "stream",
     "text": [
      "--- 2898.6625878810883 seconds ---\n"
     ]
    }
   ],
   "source": [
    "import numpy as np\n",
    "import compute_statistics as cs\n",
    "import pandas as pd\n",
    "import time\n",
    "\n",
    "startTime = time.time()\n",
    "\n",
    "# Here I assume that the (relative or absolute) path to each postage stamp image is contained in a text file\n",
    "filename = np.loadtxt('../CANDELS/FILENAMES_COSMOS',dtype='str')\n",
    "\n",
    "# Optional arguments to compute_statistics:\n",
    "#   - trim (True/False, default False) and trimAmount (default 0)\n",
    "#     should we trim trimAmount rows and columns off the image array, from each side?\n",
    "#   - scalePSF (default 0)\n",
    "#     sigma of bivariate symmetric Gaussian used to convolve each image, in pixels\n",
    "#       For CANDELS (assuming H filter is the \"baseline\"):\n",
    "#         scale.psf = c(0,0.665,0.754) for c(\"H\",\"J\",\"Y\")\n",
    "#         scale.psf = c(0.961,0.966) for c(\"iwide\",\"iprime\") [F814W, F775W]\n",
    "#         scale.psf = c(1.007) for c(\"Vwide\") [F606W]\n",
    "#   - scaleSmooth (default 1)\n",
    "#     sigma of bivariate symmetric Gaussian used to convolve each image prior to I statistic calculation, in pixels\n",
    "#   - scalePix (default 0.06)\n",
    "#     plate scale...default reflects usage with Hubble WFC3 images\n",
    "#   - numSigma (default 5)\n",
    "#     the minimum number of sigma the intensity has to be above zero for a pixel to be included in segmap construction\n",
    "#   - incCounter (default 100)\n",
    "#     a progress message is printed every incCounter galaxies; moot if progressbar is installed and imported\n",
    "#\n",
    "# See the documentation for a description of each of the output variables.\n",
    "M,I,D,G,M20,C,A,GC,R,SN,sigma,segpix,axmin,axmax,angle,errFlag = cs.compute_statistics(filename,scalePSF=0.665)\n",
    "\n",
    "df = pd.DataFrame(np.column_stack((M,I,D,G,M20,C,A,GC,R,SN,sigma,segpix,axmin,axmax,angle,errFlag)),\n",
    "                  columns=['M','I','D','G','M20','C','A','GC','R','SN','sigma','segpix','axmin','axmax','angle','errFlag'])\n",
    "df.to_feather('COSMOS.feather')\n",
    "\n",
    "print(\"--- %s seconds ---\"%(time.time()-startTime))\n"
   ]
  },
  {
   "cell_type": "code",
   "execution_count": null,
   "metadata": {
    "collapsed": true
   },
   "outputs": [],
   "source": []
  }
 ],
 "metadata": {
  "kernelspec": {
   "display_name": "Python 3",
   "language": "python",
   "name": "python3"
  },
  "language_info": {
   "codemirror_mode": {
    "name": "ipython",
    "version": 3
   },
   "file_extension": ".py",
   "mimetype": "text/x-python",
   "name": "python",
   "nbconvert_exporter": "python",
   "pygments_lexer": "ipython3",
   "version": "3.6.3"
  }
 },
 "nbformat": 4,
 "nbformat_minor": 2
}
